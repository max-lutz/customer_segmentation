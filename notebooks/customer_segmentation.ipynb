{
 "cells": [
  {
   "cell_type": "code",
   "execution_count": 1,
   "id": "3894e796-ecab-4433-8d29-4e3a7774e58c",
   "metadata": {},
   "outputs": [],
   "source": [
    "import pandas as pd\n",
    "import polars as pl\n",
    "from zipfile import ZipFile"
   ]
  },
  {
   "cell_type": "code",
   "execution_count": 2,
   "id": "9c116bcd-b4a4-4782-936d-db93a23c18c3",
   "metadata": {},
   "outputs": [],
   "source": [
    "df_order_products__prior = pl.read_csv(ZipFile(\"../data/order_products__prior.csv.zip\").read(\"order_products__prior.csv\"))\n",
    "df_orders = pl.read_csv(ZipFile(\"../data/orders.csv.zip\").read(\"orders.csv\"))\n",
    "df_products = pl.read_csv(ZipFile(\"../data/products.csv.zip\").read(\"products.csv\"))\n",
    "\n",
    "df_orders = df_orders.filter(pl.col(\"eval_set\") == \"prior\")\n",
    "# # all_dfs = [df_order_products__prior, df_orders, df_products]\n",
    "# # dfs_names = [\"order_products__prior\", \"orders\", \"products\"]"
   ]
  },
  {
   "cell_type": "code",
   "execution_count": 3,
   "id": "4f90c66d-9c12-4dcc-86be-d6b79ccd69dd",
   "metadata": {},
   "outputs": [
    {
     "data": {
      "text/html": [
       "<div><style>\n",
       ".dataframe > thead > tr > th,\n",
       ".dataframe > tbody > tr > td {\n",
       "  text-align: right;\n",
       "  white-space: pre-wrap;\n",
       "}\n",
       "</style>\n",
       "<small>shape: (32_434_489, 13)</small><table border=\"1\" class=\"dataframe\"><thead><tr><th>order_id</th><th>user_id</th><th>eval_set</th><th>order_number</th><th>order_dow</th><th>order_hour_of_day</th><th>days_since_prior_order</th><th>product_id</th><th>add_to_cart_order</th><th>reordered</th><th>product_name</th><th>aisle_id</th><th>department_id</th></tr><tr><td>i64</td><td>i64</td><td>str</td><td>i64</td><td>i64</td><td>i64</td><td>f64</td><td>i64</td><td>i64</td><td>i64</td><td>str</td><td>i64</td><td>i64</td></tr></thead><tbody><tr><td>2</td><td>202279</td><td>&quot;prior&quot;</td><td>3</td><td>5</td><td>9</td><td>8.0</td><td>33120</td><td>1</td><td>1</td><td>&quot;Organic Egg Wh…</td><td>86</td><td>16</td></tr><tr><td>2</td><td>202279</td><td>&quot;prior&quot;</td><td>3</td><td>5</td><td>9</td><td>8.0</td><td>28985</td><td>2</td><td>1</td><td>&quot;Michigan Organ…</td><td>83</td><td>4</td></tr><tr><td>2</td><td>202279</td><td>&quot;prior&quot;</td><td>3</td><td>5</td><td>9</td><td>8.0</td><td>9327</td><td>3</td><td>0</td><td>&quot;Garlic Powder&quot;</td><td>104</td><td>13</td></tr><tr><td>2</td><td>202279</td><td>&quot;prior&quot;</td><td>3</td><td>5</td><td>9</td><td>8.0</td><td>45918</td><td>4</td><td>1</td><td>&quot;Coconut Butter…</td><td>19</td><td>13</td></tr><tr><td>2</td><td>202279</td><td>&quot;prior&quot;</td><td>3</td><td>5</td><td>9</td><td>8.0</td><td>30035</td><td>5</td><td>0</td><td>&quot;Natural Sweete…</td><td>17</td><td>13</td></tr><tr><td>2</td><td>202279</td><td>&quot;prior&quot;</td><td>3</td><td>5</td><td>9</td><td>8.0</td><td>17794</td><td>6</td><td>1</td><td>&quot;Carrots&quot;</td><td>83</td><td>4</td></tr><tr><td>2</td><td>202279</td><td>&quot;prior&quot;</td><td>3</td><td>5</td><td>9</td><td>8.0</td><td>40141</td><td>7</td><td>1</td><td>&quot;Original Unfla…</td><td>105</td><td>13</td></tr><tr><td>2</td><td>202279</td><td>&quot;prior&quot;</td><td>3</td><td>5</td><td>9</td><td>8.0</td><td>1819</td><td>8</td><td>1</td><td>&quot;All Natural No…</td><td>88</td><td>13</td></tr><tr><td>2</td><td>202279</td><td>&quot;prior&quot;</td><td>3</td><td>5</td><td>9</td><td>8.0</td><td>43668</td><td>9</td><td>0</td><td>&quot;Classic Blend …</td><td>123</td><td>4</td></tr><tr><td>3</td><td>205970</td><td>&quot;prior&quot;</td><td>16</td><td>5</td><td>17</td><td>12.0</td><td>33754</td><td>1</td><td>1</td><td>&quot;Total 2% with …</td><td>120</td><td>16</td></tr><tr><td>3</td><td>205970</td><td>&quot;prior&quot;</td><td>16</td><td>5</td><td>17</td><td>12.0</td><td>24838</td><td>2</td><td>1</td><td>&quot;Unsweetened Al…</td><td>91</td><td>16</td></tr><tr><td>3</td><td>205970</td><td>&quot;prior&quot;</td><td>16</td><td>5</td><td>17</td><td>12.0</td><td>17704</td><td>3</td><td>1</td><td>&quot;Lemons&quot;</td><td>123</td><td>4</td></tr><tr><td>&hellip;</td><td>&hellip;</td><td>&hellip;</td><td>&hellip;</td><td>&hellip;</td><td>&hellip;</td><td>&hellip;</td><td>&hellip;</td><td>&hellip;</td><td>&hellip;</td><td>&hellip;</td><td>&hellip;</td><td>&hellip;</td></tr><tr><td>3421082</td><td>175185</td><td>&quot;prior&quot;</td><td>23</td><td>2</td><td>18</td><td>4.0</td><td>12023</td><td>6</td><td>0</td><td>&quot;Toasted Coconu…</td><td>117</td><td>19</td></tr><tr><td>3421082</td><td>175185</td><td>&quot;prior&quot;</td><td>23</td><td>2</td><td>18</td><td>4.0</td><td>47941</td><td>7</td><td>0</td><td>&quot;Special K Red …</td><td>121</td><td>14</td></tr><tr><td>3421083</td><td>25247</td><td>&quot;prior&quot;</td><td>24</td><td>2</td><td>6</td><td>21.0</td><td>7854</td><td>1</td><td>0</td><td>&quot;Freeze Dried M…</td><td>117</td><td>19</td></tr><tr><td>3421083</td><td>25247</td><td>&quot;prior&quot;</td><td>24</td><td>2</td><td>6</td><td>21.0</td><td>45309</td><td>2</td><td>0</td><td>&quot;Purple Carrot …</td><td>92</td><td>18</td></tr><tr><td>3421083</td><td>25247</td><td>&quot;prior&quot;</td><td>24</td><td>2</td><td>6</td><td>21.0</td><td>21162</td><td>3</td><td>0</td><td>&quot;Organic Mixed …</td><td>92</td><td>18</td></tr><tr><td>3421083</td><td>25247</td><td>&quot;prior&quot;</td><td>24</td><td>2</td><td>6</td><td>21.0</td><td>18176</td><td>4</td><td>1</td><td>&quot;Organic Strawb…</td><td>92</td><td>18</td></tr><tr><td>3421083</td><td>25247</td><td>&quot;prior&quot;</td><td>24</td><td>2</td><td>6</td><td>21.0</td><td>35211</td><td>5</td><td>0</td><td>&quot;Organic Strawb…</td><td>92</td><td>18</td></tr><tr><td>3421083</td><td>25247</td><td>&quot;prior&quot;</td><td>24</td><td>2</td><td>6</td><td>21.0</td><td>39678</td><td>6</td><td>1</td><td>&quot;Free &amp; Clear N…</td><td>74</td><td>17</td></tr><tr><td>3421083</td><td>25247</td><td>&quot;prior&quot;</td><td>24</td><td>2</td><td>6</td><td>21.0</td><td>11352</td><td>7</td><td>0</td><td>&quot;Organic Mini S…</td><td>78</td><td>19</td></tr><tr><td>3421083</td><td>25247</td><td>&quot;prior&quot;</td><td>24</td><td>2</td><td>6</td><td>21.0</td><td>4600</td><td>8</td><td>0</td><td>&quot;All Natural Fr…</td><td>52</td><td>1</td></tr><tr><td>3421083</td><td>25247</td><td>&quot;prior&quot;</td><td>24</td><td>2</td><td>6</td><td>21.0</td><td>24852</td><td>9</td><td>1</td><td>&quot;Banana&quot;</td><td>24</td><td>4</td></tr><tr><td>3421083</td><td>25247</td><td>&quot;prior&quot;</td><td>24</td><td>2</td><td>6</td><td>21.0</td><td>5020</td><td>10</td><td>1</td><td>&quot;Organic  Sweet…</td><td>3</td><td>19</td></tr></tbody></table></div>"
      ],
      "text/plain": [
       "shape: (32_434_489, 13)\n",
       "┌──────────┬─────────┬──────────┬─────────────┬───┬───────────┬────────────┬──────────┬────────────┐\n",
       "│ order_id ┆ user_id ┆ eval_set ┆ order_numbe ┆ … ┆ reordered ┆ product_na ┆ aisle_id ┆ department │\n",
       "│ ---      ┆ ---     ┆ ---      ┆ r           ┆   ┆ ---       ┆ me         ┆ ---      ┆ _id        │\n",
       "│ i64      ┆ i64     ┆ str      ┆ ---         ┆   ┆ i64       ┆ ---        ┆ i64      ┆ ---        │\n",
       "│          ┆         ┆          ┆ i64         ┆   ┆           ┆ str        ┆          ┆ i64        │\n",
       "╞══════════╪═════════╪══════════╪═════════════╪═══╪═══════════╪════════════╪══════════╪════════════╡\n",
       "│ 2        ┆ 202279  ┆ prior    ┆ 3           ┆ … ┆ 1         ┆ Organic    ┆ 86       ┆ 16         │\n",
       "│          ┆         ┆          ┆             ┆   ┆           ┆ Egg Whites ┆          ┆            │\n",
       "│ 2        ┆ 202279  ┆ prior    ┆ 3           ┆ … ┆ 1         ┆ Michigan   ┆ 83       ┆ 4          │\n",
       "│          ┆         ┆          ┆             ┆   ┆           ┆ Organic    ┆          ┆            │\n",
       "│          ┆         ┆          ┆             ┆   ┆           ┆ Kale       ┆          ┆            │\n",
       "│ 2        ┆ 202279  ┆ prior    ┆ 3           ┆ … ┆ 0         ┆ Garlic     ┆ 104      ┆ 13         │\n",
       "│          ┆         ┆          ┆             ┆   ┆           ┆ Powder     ┆          ┆            │\n",
       "│ 2        ┆ 202279  ┆ prior    ┆ 3           ┆ … ┆ 1         ┆ Coconut    ┆ 19       ┆ 13         │\n",
       "│          ┆         ┆          ┆             ┆   ┆           ┆ Butter     ┆          ┆            │\n",
       "│ …        ┆ …       ┆ …        ┆ …           ┆ … ┆ …         ┆ …          ┆ …        ┆ …          │\n",
       "│ 3421083  ┆ 25247   ┆ prior    ┆ 24          ┆ … ┆ 0         ┆ Organic    ┆ 78       ┆ 19         │\n",
       "│          ┆         ┆          ┆             ┆   ┆           ┆ Mini       ┆          ┆            │\n",
       "│          ┆         ┆          ┆             ┆   ┆           ┆ Sandwich   ┆          ┆            │\n",
       "│          ┆         ┆          ┆             ┆   ┆           ┆ Crackers   ┆          ┆            │\n",
       "│          ┆         ┆          ┆             ┆   ┆           ┆ P…         ┆          ┆            │\n",
       "│ 3421083  ┆ 25247   ┆ prior    ┆ 24          ┆ … ┆ 0         ┆ All        ┆ 52       ┆ 1          │\n",
       "│          ┆         ┆          ┆             ┆   ┆           ┆ Natural    ┆          ┆            │\n",
       "│          ┆         ┆          ┆             ┆   ┆           ┆ French     ┆          ┆            │\n",
       "│          ┆         ┆          ┆             ┆   ┆           ┆ Toast      ┆          ┆            │\n",
       "│          ┆         ┆          ┆             ┆   ┆           ┆ Sticks     ┆          ┆            │\n",
       "│ 3421083  ┆ 25247   ┆ prior    ┆ 24          ┆ … ┆ 1         ┆ Banana     ┆ 24       ┆ 4          │\n",
       "│ 3421083  ┆ 25247   ┆ prior    ┆ 24          ┆ … ┆ 1         ┆ Organic    ┆ 3        ┆ 19         │\n",
       "│          ┆         ┆          ┆             ┆   ┆           ┆ Sweet &    ┆          ┆            │\n",
       "│          ┆         ┆          ┆             ┆   ┆           ┆ Salty      ┆          ┆            │\n",
       "│          ┆         ┆          ┆             ┆   ┆           ┆ Peanut Pr… ┆          ┆            │\n",
       "└──────────┴─────────┴──────────┴─────────────┴───┴───────────┴────────────┴──────────┴────────────┘"
      ]
     },
     "execution_count": 3,
     "metadata": {},
     "output_type": "execute_result"
    }
   ],
   "source": [
    "df = df_orders.join(df_order_products__prior, on='order_id')\n",
    "df = df.join(df_products, on='product_id')\n",
    "df"
   ]
  },
  {
   "cell_type": "code",
   "execution_count": null,
   "id": "c7c5ec66-8b67-44bd-8edf-255f71fb857a",
   "metadata": {},
   "outputs": [],
   "source": [
    "# for df, name in zip(all_dfs, dfs_names):\n",
    "#     print(name)\n",
    "#     print(df.info())\n",
    "#     print(\"\")"
   ]
  },
  {
   "cell_type": "markdown",
   "id": "204c2425-923e-412a-88dd-594a43f9041c",
   "metadata": {},
   "source": [
    "### Number of unique clients"
   ]
  },
  {
   "cell_type": "code",
   "execution_count": null,
   "id": "98f80e49-33a8-47fe-8f12-f7744f39233f",
   "metadata": {},
   "outputs": [],
   "source": [
    "len(df_orders['user_id'].unique())"
   ]
  },
  {
   "cell_type": "markdown",
   "id": "16833326-2c96-461c-b76b-73866951d298",
   "metadata": {},
   "source": [
    "## Segmentation by aisles visited"
   ]
  },
  {
   "cell_type": "code",
   "execution_count": null,
   "id": "46cbac4c-f0f2-41bc-8dd2-90ec4aaa808f",
   "metadata": {},
   "outputs": [],
   "source": [
    "# %timeit df_orders.merge(df_order_products__prior, on='order_id')"
   ]
  },
  {
   "cell_type": "code",
   "execution_count": null,
   "id": "16357286-a260-413c-8979-c8722ab7ea6f",
   "metadata": {},
   "outputs": [],
   "source": [
    "# df = df_orders.merge(df_order_products__prior, on='order_id')\n",
    "# df = df.merge(df_products, on='product_id')\n",
    "# df"
   ]
  },
  {
   "cell_type": "code",
   "execution_count": null,
   "id": "13b76d51-99a5-471e-ba92-985756674d52",
   "metadata": {},
   "outputs": [],
   "source": []
  },
  {
   "cell_type": "code",
   "execution_count": null,
   "id": "860afb6a-e09f-4533-8fdf-df9dd1fa3d02",
   "metadata": {},
   "outputs": [],
   "source": []
  },
  {
   "cell_type": "code",
   "execution_count": null,
   "id": "2e652b66-ded1-4985-a787-62e8f562322f",
   "metadata": {},
   "outputs": [],
   "source": []
  },
  {
   "cell_type": "code",
   "execution_count": null,
   "id": "df288460-2aba-43e8-9c47-577ed8b1da64",
   "metadata": {},
   "outputs": [],
   "source": []
  },
  {
   "cell_type": "markdown",
   "id": "5b22f85c-8464-462a-8c85-99da1ef30ebb",
   "metadata": {},
   "source": [
    "## Segmentation by product bought"
   ]
  },
  {
   "cell_type": "code",
   "execution_count": null,
   "id": "8a95846b-9870-4ca4-ae7c-cc27b57cb098",
   "metadata": {},
   "outputs": [],
   "source": []
  }
 ],
 "metadata": {
  "kernelspec": {
   "display_name": "Python 3 (ipykernel)",
   "language": "python",
   "name": "python3"
  },
  "language_info": {
   "codemirror_mode": {
    "name": "ipython",
    "version": 3
   },
   "file_extension": ".py",
   "mimetype": "text/x-python",
   "name": "python",
   "nbconvert_exporter": "python",
   "pygments_lexer": "ipython3",
   "version": "3.9.17"
  }
 },
 "nbformat": 4,
 "nbformat_minor": 5
}
