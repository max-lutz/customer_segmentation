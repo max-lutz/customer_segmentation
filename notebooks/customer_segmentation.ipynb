{
 "cells": [
  {
   "cell_type": "code",
   "execution_count": null,
   "id": "3894e796-ecab-4433-8d29-4e3a7774e58c",
   "metadata": {},
   "outputs": [],
   "source": [
    "import numpy as np\n",
    "import pandas as pd\n",
    "import dask.dataframe as dd\n",
    "from dask.delayed import delayed\n",
    "from zipfile import ZipFile\n",
    "import hvplot.pandas\n",
    "import hvplot.dask\n",
    "import random\n",
    "from datetime import date, datetime, timedelta\n",
    "from tqdm import tqdm"
   ]
  },
  {
   "cell_type": "code",
   "execution_count": null,
   "id": "1ffd634e",
   "metadata": {},
   "outputs": [],
   "source": [
    "def load_zipped_csv(file_path):\n",
    "    zipped_file = [delayed(pd.read_csv)(file_path)]\n",
    "    return dd.from_delayed(zipped_file)"
   ]
  },
  {
   "cell_type": "code",
   "execution_count": null,
   "id": "9c81c1b2",
   "metadata": {},
   "outputs": [],
   "source": [
    "def add_total_number_of_days(df):\n",
    "    df_to_join = df.groupby(\"user_id\").days_since_prior_order.sum().reset_index().rename(columns={\"days_since_prior_order\":\"total_days_on_platform\"})\n",
    "    df_to_join['user_id'] = df_to_join['user_id'].astype(int)\n",
    "    df = pd.merge(df, df_to_join, on=[\"user_id\"])\n",
    "    return df"
   ]
  },
  {
   "cell_type": "code",
   "execution_count": null,
   "id": "8953c7bf",
   "metadata": {},
   "outputs": [],
   "source": [
    "def add_initial_date(df):\n",
    "    pass"
   ]
  },
  {
   "cell_type": "markdown",
   "id": "83405884-f03d-4d3e-8aa2-fc8008d9bdd4",
   "metadata": {},
   "source": [
    "# Load the data"
   ]
  },
  {
   "cell_type": "code",
   "execution_count": null,
   "id": "9c116bcd-b4a4-4782-936d-db93a23c18c3",
   "metadata": {},
   "outputs": [],
   "source": [
    "df_order_products = load_zipped_csv(\"../data/order_products__prior.csv.zip\")\n",
    "df_orders = load_zipped_csv(\"../data/orders.csv.zip\")\n",
    "df_products = load_zipped_csv(\"../data/products.csv.zip\")\n",
    "df_aisles = load_zipped_csv(\"../data/aisles.csv.zip\")\n",
    "df_departments = load_zipped_csv(\"../data/departments.csv.zip\")"
   ]
  },
  {
   "cell_type": "code",
   "execution_count": null,
   "id": "eeeec703",
   "metadata": {},
   "outputs": [],
   "source": [
    "df_orders = df_orders[df_orders[\"eval_set\"] == \"prior\"]\n",
    "# df_orders = df_orders[df_orders[\"user_id\"].isin([4, 5, 6, 7])]\n",
    "df_orders['order_id'] = df_orders['order_id'].astype(int)\n",
    "\n",
    "\n",
    "df_order_products = df_order_products.groupby(\"order_id\")[\"product_id\"].apply(list).compute().to_frame().reset_index()\n",
    "df_order_products['order_id'] = df_order_products['order_id'].astype(int)"
   ]
  },
  {
   "cell_type": "code",
   "execution_count": null,
   "id": "4f90c66d-9c12-4dcc-86be-d6b79ccd69dd",
   "metadata": {},
   "outputs": [],
   "source": [
    "df = df_orders.merge(df_order_products, on=[\"order_id\"]).compute()\n",
    "\n",
    "# df = df.join(df_products, on='product_id', rsuffix=\"_\")\n",
    "# df = df.join(df_aisles, on='aisle_id', rsuffix=\"_\")\n",
    "# df = df.join(df_departments, on='department_id', rsuffix=\"_\")"
   ]
  },
  {
   "cell_type": "code",
   "execution_count": null,
   "id": "38f118a6",
   "metadata": {},
   "outputs": [],
   "source": [
    "df = add_total_number_of_days(df)"
   ]
  },
  {
   "cell_type": "markdown",
   "id": "1248e946",
   "metadata": {},
   "source": [
    "# Create segementation dataset"
   ]
  },
  {
   "cell_type": "code",
   "execution_count": null,
   "id": "7374126f",
   "metadata": {},
   "outputs": [],
   "source": [
    "df.head(5)"
   ]
  },
  {
   "cell_type": "code",
   "execution_count": null,
   "id": "8a95846b-9870-4ca4-ae7c-cc27b57cb098",
   "metadata": {},
   "outputs": [],
   "source": [
    "df[df[\"user_id\"] == 1]"
   ]
  },
  {
   "cell_type": "code",
   "execution_count": null,
   "id": "ebe81fed",
   "metadata": {},
   "outputs": [],
   "source": [
    "nb_users = len(df[\"user_id\"].unique())\n",
    "nb_users"
   ]
  },
  {
   "cell_type": "markdown",
   "id": "c5463a16",
   "metadata": {},
   "source": [
    "## Complete product dataset"
   ]
  },
  {
   "cell_type": "code",
   "execution_count": null,
   "id": "a22f3023",
   "metadata": {},
   "outputs": [],
   "source": [
    "df_products = df_products.merge(df_aisles.compute(), on=[\"aisle_id\"])\n",
    "df_products = df_products.merge(df_departments.compute(), on=[\"department_id\"])\n",
    "df_products = df_products.compute()\n",
    "df_products"
   ]
  },
  {
   "cell_type": "code",
   "execution_count": null,
   "id": "a8da7e96",
   "metadata": {},
   "outputs": [],
   "source": [
    "df_products"
   ]
  },
  {
   "cell_type": "code",
   "execution_count": null,
   "id": "ffc6ea02",
   "metadata": {},
   "outputs": [],
   "source": [
    "nb_products = len(df_products[\"product_id\"].unique())\n",
    "nb_products"
   ]
  },
  {
   "cell_type": "code",
   "execution_count": null,
   "id": "26821503",
   "metadata": {},
   "outputs": [],
   "source": [
    "sparse_df = []\n",
    "for i in tqdm(range(nb_users)):\n",
    "    a = np.empty((nb_products))\n",
    "    a[:] = np.nan\n",
    "    empty_array = pd.arrays.SparseArray(a, dtype=float)\n",
    "    sparse_df.append(empty_array)"
   ]
  },
  {
   "cell_type": "code",
   "execution_count": null,
   "id": "ed07de9a",
   "metadata": {},
   "outputs": [],
   "source": [
    "sparse_df"
   ]
  },
  {
   "cell_type": "code",
   "execution_count": null,
   "id": "da5b470d",
   "metadata": {},
   "outputs": [],
   "source": [
    "sparse_df_ = pd.DataFrame(sparse_df)"
   ]
  },
  {
   "cell_type": "code",
   "execution_count": null,
   "id": "fe9f7041",
   "metadata": {},
   "outputs": [],
   "source": [
    "sparse_df_"
   ]
  },
  {
   "cell_type": "code",
   "execution_count": null,
   "id": "f923bf9a",
   "metadata": {},
   "outputs": [],
   "source": []
  }
 ],
 "metadata": {
  "kernelspec": {
   "display_name": "Python 3 (ipykernel)",
   "language": "python",
   "name": "python3"
  },
  "language_info": {
   "codemirror_mode": {
    "name": "ipython",
    "version": 3
   },
   "file_extension": ".py",
   "mimetype": "text/x-python",
   "name": "python",
   "nbconvert_exporter": "python",
   "pygments_lexer": "ipython3",
   "version": "3.9.17"
  }
 },
 "nbformat": 4,
 "nbformat_minor": 5
}
