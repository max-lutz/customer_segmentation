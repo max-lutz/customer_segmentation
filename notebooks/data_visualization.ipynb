{
 "cells": [
  {
   "cell_type": "code",
   "execution_count": null,
   "id": "3894e796-ecab-4433-8d29-4e3a7774e58c",
   "metadata": {},
   "outputs": [],
   "source": [
    "import numpy as np\n",
    "import pandas as pd\n",
    "import dask.dataframe as dd\n",
    "from dask.delayed import delayed\n",
    "from zipfile import ZipFile\n",
    "import hvplot.pandas\n",
    "import hvplot.dask\n",
    "import random\n",
    "from datetime import date, datetime, timedelta\n",
    "from tqdm import tqdm"
   ]
  },
  {
   "cell_type": "code",
   "execution_count": null,
   "id": "1ffd634e",
   "metadata": {},
   "outputs": [],
   "source": [
    "def load_zipped_csv(file_path):\n",
    "    zipped_file = [delayed(pd.read_csv)(file_path)]\n",
    "    return dd.from_delayed(zipped_file)"
   ]
  },
  {
   "cell_type": "code",
   "execution_count": null,
   "id": "9c81c1b2",
   "metadata": {},
   "outputs": [],
   "source": [
    "def add_total_number_of_days(df):\n",
    "    df_to_join = df.groupby(\"user_id\").days_since_prior_order.sum().reset_index().rename(columns={\"days_since_prior_order\":\"total_days_on_platform\"})\n",
    "    df_to_join['user_id'] = df_to_join['user_id'].astype(int)\n",
    "    df = pd.merge(df, df_to_join, on=[\"user_id\"])\n",
    "    return df"
   ]
  },
  {
   "cell_type": "code",
   "execution_count": null,
   "id": "8953c7bf",
   "metadata": {},
   "outputs": [],
   "source": [
    "def add_initial_date(df):\n",
    "    pass"
   ]
  },
  {
   "cell_type": "markdown",
   "id": "83405884-f03d-4d3e-8aa2-fc8008d9bdd4",
   "metadata": {},
   "source": [
    "## Load the data"
   ]
  },
  {
   "cell_type": "code",
   "execution_count": null,
   "id": "9c116bcd-b4a4-4782-936d-db93a23c18c3",
   "metadata": {},
   "outputs": [],
   "source": [
    "df_order_products = load_zipped_csv(\"../data/order_products__prior.csv.zip\")\n",
    "df_orders = load_zipped_csv(\"../data/orders.csv.zip\")\n",
    "df_products = load_zipped_csv(\"../data/products.csv.zip\")\n",
    "df_aisles = load_zipped_csv(\"../data/aisles.csv.zip\")\n",
    "df_departments = load_zipped_csv(\"../data/departments.csv.zip\")"
   ]
  },
  {
   "cell_type": "code",
   "execution_count": null,
   "id": "eeeec703",
   "metadata": {},
   "outputs": [],
   "source": [
    "df_orders = df_orders[df_orders[\"eval_set\"] == \"prior\"]\n",
    "# df_orders = df_orders[df_orders[\"user_id\"].isin([4, 5, 6, 7])]\n",
    "df_orders['order_id'] = df_orders['order_id'].astype(int)\n",
    "\n",
    "\n",
    "df_order_products = df_order_products.groupby(\"order_id\")[\"product_id\"].apply(list).compute().to_frame().reset_index()\n",
    "df_order_products['order_id'] = df_order_products['order_id'].astype(int)"
   ]
  },
  {
   "cell_type": "code",
   "execution_count": null,
   "id": "4f90c66d-9c12-4dcc-86be-d6b79ccd69dd",
   "metadata": {},
   "outputs": [],
   "source": [
    "df = df_orders.merge(df_order_products, on=[\"order_id\"]).compute()\n",
    "\n",
    "# df = df.join(df_products, on='product_id', rsuffix=\"_\")\n",
    "# df = df.join(df_aisles, on='aisle_id', rsuffix=\"_\")\n",
    "# df = df.join(df_departments, on='department_id', rsuffix=\"_\")"
   ]
  },
  {
   "cell_type": "code",
   "execution_count": null,
   "id": "38f118a6",
   "metadata": {},
   "outputs": [],
   "source": [
    "df = add_total_number_of_days(df)"
   ]
  },
  {
   "cell_type": "markdown",
   "id": "1248e946",
   "metadata": {},
   "source": [
    "## Joined dataset metadata"
   ]
  },
  {
   "cell_type": "code",
   "execution_count": null,
   "id": "7374126f",
   "metadata": {},
   "outputs": [],
   "source": [
    "df.head(5)"
   ]
  },
  {
   "cell_type": "code",
   "execution_count": null,
   "id": "9fc17bbc",
   "metadata": {},
   "outputs": [],
   "source": [
    "n_rows = len(df)\n",
    "n_rows"
   ]
  },
  {
   "cell_type": "code",
   "execution_count": null,
   "id": "7760f6f7",
   "metadata": {},
   "outputs": [],
   "source": [
    "for col in df:\n",
    "    try:\n",
    "        print(col, len(df[col].unique()))\n",
    "    except:\n",
    "        pass"
   ]
  },
  {
   "cell_type": "markdown",
   "id": "1cfdd0dd-e816-4a3f-93ff-29956561aad0",
   "metadata": {},
   "source": [
    "## Plots on orders"
   ]
  },
  {
   "cell_type": "code",
   "execution_count": null,
   "id": "51b62173",
   "metadata": {},
   "outputs": [],
   "source": [
    "df_order_hour = df.groupby(\"order_hour_of_day\").order_id.count().reset_index()\n",
    "df_order_hour['percentage of orders'] = df_order_hour['order_id']/n_rows\n",
    "df_order_hour.hvplot.bar(x=\"order_hour_of_day\", y=\"percentage of orders\", title=\"Percentage of orders per hour\")"
   ]
  },
  {
   "cell_type": "code",
   "execution_count": null,
   "id": "24f750e3",
   "metadata": {},
   "outputs": [],
   "source": [
    "df_ = df.groupby(\"user_id\").days_since_prior_order.mean().reset_index()\n",
    "df_.hvplot.hist(\"days_since_prior_order\" , title=\"Average number of days between orders\")"
   ]
  },
  {
   "cell_type": "code",
   "execution_count": null,
   "id": "c0d880aa",
   "metadata": {},
   "outputs": [],
   "source": [
    "df.hvplot.hist(\"order_dow\" , title=\"Day of the week order\")"
   ]
  },
  {
   "cell_type": "code",
   "execution_count": null,
   "id": "58966dcf",
   "metadata": {},
   "outputs": [],
   "source": [
    "df_ = df.groupby(\"user_id\").order_number.count().reset_index()\n",
    "df_.hvplot.hist(\"order_number\" , title=\"Average number of orders per clients\", bins=50)"
   ]
  },
  {
   "cell_type": "code",
   "execution_count": null,
   "id": "316143d3",
   "metadata": {},
   "outputs": [],
   "source": [
    "df_ = df.groupby(\"user_id\").days_since_prior_order.sum().reset_index()\n",
    "df_.hvplot.hist(\"days_since_prior_order\" , title=\"Number of days since clients uses Instacart\", bins=50)"
   ]
  },
  {
   "cell_type": "code",
   "execution_count": null,
   "id": "3bed3ac3",
   "metadata": {},
   "outputs": [],
   "source": [
    "test = df[df['days_since_prior_order'].isna()]\n",
    "dates = []\n",
    "\n",
    "delta_days = df[\"days_since_prior_order\"].to_list()\n",
    "total_days = df[\"total_days_on_platform\"].to_list()\n",
    "\n",
    "for day, total_day in tqdm(zip(delta_days, total_days), total=len(df), position=0, leave=True):\n",
    "    if(np.isnan(day)):\n",
    "        dates.append(date.today() - timedelta(days=total_day-2))\n",
    "    else:\n",
    "         dates.append(dates[-1] + timedelta(days=day))\n",
    "\n",
    "# for i in tqdm(range(len(test)), position=0, leave=True):\n",
    "#     dates.append(date.today() - timedelta(days=test.iloc[i]['total_days_on_platform'] + random.randint(-7, 7)))\n",
    "# test[\"date\"] = dates\n",
    "\n",
    "df[\"date\"] = dates"
   ]
  },
  {
   "cell_type": "code",
   "execution_count": null,
   "id": "8e84f46a",
   "metadata": {},
   "outputs": [],
   "source": [
    "df_ = df.groupby(\"date\").order_number.count().reset_index()\n",
    "df_[\"date\"] = pd.to_datetime(df_[\"date\"])\n",
    "df_ = df_[(df_[\"date\"].dt.date < date.today()) & (df_[\"date\"].dt.date > date.today() - timedelta(days=120))]\n",
    "df_.hvplot(y=\"order_number\", x=\"date\", title=\"Number of orders in the last 120 days\")"
   ]
  },
  {
   "cell_type": "code",
   "execution_count": null,
   "id": "ce82792f",
   "metadata": {},
   "outputs": [],
   "source": [
    "df_ = df.groupby(\"date\").order_number.count().reset_index()\n",
    "df_[\"date\"] = pd.to_datetime(df_[\"date\"])\n",
    "df_ = df_.resample(\"1d\", on=\"date\").sum().fillna(0).rolling(window=5, min_periods=1).mean().reset_index()\n",
    "df_ = df_[(df_[\"date\"].dt.date < date.today()) & (df_[\"date\"].dt.date > date.today() - timedelta(days=8))]\n",
    "df_[\"date\"] = df_[\"date\"].astype(str)\n",
    "df_.hvplot.bar(y=\"order_number\", x=\"date\", title=\"Last 7 days average\")"
   ]
  },
  {
   "cell_type": "markdown",
   "id": "99ab4461",
   "metadata": {},
   "source": [
    "# Plots on products"
   ]
  },
  {
   "cell_type": "code",
   "execution_count": null,
   "id": "f2bd8bdb",
   "metadata": {},
   "outputs": [],
   "source": [
    "l = df[\"product_id\"].to_list()\n",
    "l = [item for sublist in tqdm(l) for item in sublist]"
   ]
  },
  {
   "cell_type": "code",
   "execution_count": null,
   "id": "e1d591ac",
   "metadata": {},
   "outputs": [],
   "source": [
    "df_product_occurrence = pd.DataFrame(l, columns=[\"product_id\"])\n",
    "df_product_occurrence = df_product_occurrence.value_counts().reset_index()\n",
    "df_product_occurrence = df_product_occurrence.merge(df_products.compute(), on=[\"product_id\"])\n",
    "df_product_occurrence = df_product_occurrence.merge(df_aisles.compute(), on=[\"aisle_id\"])\n",
    "df_product_occurrence = df_product_occurrence.merge(df_departments.compute(), on=[\"department_id\"])\n",
    "df_product_occurrence"
   ]
  },
  {
   "cell_type": "code",
   "execution_count": null,
   "id": "8e9538c2",
   "metadata": {},
   "outputs": [],
   "source": [
    "df_product_occurrence[0:5].hvplot.bar(y=\"count\", x=\"product_name\", title=\"Top 5 products\")"
   ]
  },
  {
   "cell_type": "code",
   "execution_count": null,
   "id": "8d92f936",
   "metadata": {},
   "outputs": [],
   "source": [
    "df_top_aisles = pd.DataFrame(df_product_occurrence.groupby(\"aisle\")[\"count\"].sum()).reset_index()\n",
    "df_top_aisles = df_top_aisles.sort_values(\"count\", ascending=False)\n",
    "df_top_aisles[0:5].hvplot.bar(y=\"count\", x=\"aisle\", title=\"Top 5 aisles\")"
   ]
  },
  {
   "cell_type": "code",
   "execution_count": null,
   "id": "0aa6655f",
   "metadata": {},
   "outputs": [],
   "source": [
    "df_top_departments = pd.DataFrame(df_product_occurrence.groupby(\"department\")[\"count\"].sum()).reset_index()\n",
    "df_top_departments = df_top_departments.sort_values(\"count\", ascending=False)\n",
    "df_top_departments[0:5].hvplot.bar(y=\"count\", x=\"department\", title=\"Top 5 departments\")"
   ]
  },
  {
   "cell_type": "code",
   "execution_count": null,
   "id": "b88a7852",
   "metadata": {},
   "outputs": [],
   "source": []
  }
 ],
 "metadata": {
  "kernelspec": {
   "display_name": "Python 3 (ipykernel)",
   "language": "python",
   "name": "python3"
  },
  "language_info": {
   "codemirror_mode": {
    "name": "ipython",
    "version": 3
   },
   "file_extension": ".py",
   "mimetype": "text/x-python",
   "name": "python",
   "nbconvert_exporter": "python",
   "pygments_lexer": "ipython3",
   "version": "3.9.17"
  }
 },
 "nbformat": 4,
 "nbformat_minor": 5
}
