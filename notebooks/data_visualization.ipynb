{
 "cells": [
  {
   "cell_type": "code",
   "execution_count": 16,
   "id": "3894e796-ecab-4433-8d29-4e3a7774e58c",
   "metadata": {},
   "outputs": [],
   "source": [
    "import pandas as pd\n",
    "import dask.dataframe as dd\n",
    "from dask.delayed import delayed\n",
    "from zipfile import ZipFile\n",
    "\n",
    "import seaborn as sns\n",
    "import matplotlib.pyplot as plt"
   ]
  },
  {
   "cell_type": "code",
   "execution_count": 17,
   "id": "d88b928e",
   "metadata": {},
   "outputs": [],
   "source": [
    "def load_zipped_csv(file_path):\n",
    "    zipped_file = [delayed(pd.read_csv)(file_path)]\n",
    "    return dd.from_delayed(zipped_file)"
   ]
  },
  {
   "cell_type": "markdown",
   "id": "83405884-f03d-4d3e-8aa2-fc8008d9bdd4",
   "metadata": {},
   "source": [
    "## Load the data"
   ]
  },
  {
   "cell_type": "code",
   "execution_count": 18,
   "id": "9c116bcd-b4a4-4782-936d-db93a23c18c3",
   "metadata": {},
   "outputs": [],
   "source": [
    "df_order_products__prior = load_zipped_csv(\"../data/order_products__prior.csv.zip\")\n",
    "df_orders = load_zipped_csv(\"../data/orders.csv.zip\")\n",
    "df_products = load_zipped_csv(\"../data/products.csv.zip\")\n",
    "\n",
    "df_aisles = load_zipped_csv(\"../data/aisles.csv.zip\")\n",
    "df_departments = load_zipped_csv(\"../data/departments.csv.zip\")\n",
    "\n",
    "# df_orders = df_orders.filter(pl.col(\"eval_set\") == \"prior\")"
   ]
  },
  {
   "cell_type": "code",
   "execution_count": 19,
   "id": "4f90c66d-9c12-4dcc-86be-d6b79ccd69dd",
   "metadata": {},
   "outputs": [],
   "source": [
    "# df = df_orders.join(df_order_products__prior, on='order_id')\n",
    "# df = df.join(df_products, on='product_id')\n",
    "# df = df.join(df_aisles, on='aisle_id')\n",
    "# df = df.join(df_departments, on='department_id')\n",
    "\n",
    "# df.head(5)"
   ]
  },
  {
   "cell_type": "markdown",
   "id": "1cfdd0dd-e816-4a3f-93ff-29956561aad0",
   "metadata": {},
   "source": [
    "## Straight forward data visualization"
   ]
  },
  {
   "cell_type": "code",
   "execution_count": 20,
   "id": "49cd6fc8-c27d-4156-8fa2-d97446a6e142",
   "metadata": {},
   "outputs": [],
   "source": [
    "# fig, ax = plt.subplots(figsize=(10, 6))\n",
    "# ax.set_title(\"When do customer order products?\")\n",
    "# ax = sns.histplot(data=df, x=\"order_hour_of_day\", bins=12, stat=\"probability\")\n",
    "# plt.show()"
   ]
  },
  {
   "cell_type": "code",
   "execution_count": 21,
   "id": "4024f195-37a4-4fc5-a38f-efc833d25004",
   "metadata": {},
   "outputs": [],
   "source": [
    "# fig, ax = plt.subplots(figsize=(10, 6))\n",
    "# ax.set_title(\"When do customer order products?\")\n",
    "# ax = sns.histplot(data=df, x=\"order_hour_of_day\", bins=12, stat=\"probability\")\n",
    "# plt.show()"
   ]
  },
  {
   "cell_type": "code",
   "execution_count": null,
   "id": "644d180f-4ee4-42ee-9329-18a06085caa4",
   "metadata": {},
   "outputs": [],
   "source": []
  },
  {
   "cell_type": "code",
   "execution_count": null,
   "id": "bb279e1b-51e5-497f-b615-cae276483615",
   "metadata": {},
   "outputs": [],
   "source": []
  },
  {
   "cell_type": "code",
   "execution_count": null,
   "id": "9eb5f5a2-9dfb-4461-a273-7a8b2fcd724f",
   "metadata": {},
   "outputs": [],
   "source": []
  },
  {
   "cell_type": "code",
   "execution_count": null,
   "id": "a29754ca-4e31-4542-827a-b4c5519fe3c7",
   "metadata": {},
   "outputs": [],
   "source": []
  },
  {
   "cell_type": "code",
   "execution_count": null,
   "id": "56b0f107-bf9c-44b9-b433-1d594ef1395f",
   "metadata": {},
   "outputs": [],
   "source": []
  }
 ],
 "metadata": {
  "kernelspec": {
   "display_name": "Python 3 (ipykernel)",
   "language": "python",
   "name": "python3"
  },
  "language_info": {
   "codemirror_mode": {
    "name": "ipython",
    "version": 3
   },
   "file_extension": ".py",
   "mimetype": "text/x-python",
   "name": "python",
   "nbconvert_exporter": "python",
   "pygments_lexer": "ipython3",
   "version": "3.9.17"
  }
 },
 "nbformat": 4,
 "nbformat_minor": 5
}
